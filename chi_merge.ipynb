{
  "nbformat": 4,
  "nbformat_minor": 0,
  "metadata": {
    "colab": {
      "name": "chi_merge.ipynb",
      "provenance": [],
      "authorship_tag": "ABX9TyNcen0d5xhqKvNX1ZC4B6KQ",
      "include_colab_link": true
    },
    "kernelspec": {
      "name": "python3",
      "display_name": "Python 3"
    },
    "language_info": {
      "name": "python"
    }
  },
  "cells": [
    {
      "cell_type": "markdown",
      "metadata": {
        "id": "view-in-github",
        "colab_type": "text"
      },
      "source": [
        "<a href=\"https://colab.research.google.com/github/prince-manish/C/blob/main/chi_merge.ipynb\" target=\"_parent\"><img src=\"https://colab.research.google.com/assets/colab-badge.svg\" alt=\"Open In Colab\"/></a>"
      ]
    },
    {
      "cell_type": "code",
      "execution_count": 1,
      "metadata": {
        "id": "kxWnsxybHwQK"
      },
      "outputs": [],
      "source": [
        "import pandas as pd\n",
        "from collections import Counter\n",
        "import numpy as np"
      ]
    },
    {
      "cell_type": "markdown",
      "source": [
        ""
      ],
      "metadata": {
        "id": "2m8H4gzZH28W"
      }
    },
    {
      "cell_type": "code",
      "source": [
        "iris = pd.read_csv('http://archive.ics.uci.edu/ml/machine-learning-databases/iris/iris.data', header=None)"
      ],
      "metadata": {
        "id": "8-AuqBUJJoc1"
      },
      "execution_count": 2,
      "outputs": []
    },
    {
      "cell_type": "code",
      "source": [
        "iris.columns = ['sepal_l', 'sepal_w', 'petal_l', 'petal_w', 'type']\n"
      ],
      "metadata": {
        "id": "ncHxf5FuJrMt"
      },
      "execution_count": 3,
      "outputs": []
    },
    {
      "cell_type": "code",
      "source": [
        "iris.head()"
      ],
      "metadata": {
        "colab": {
          "base_uri": "https://localhost:8080/",
          "height": 206
        },
        "id": "RZcL2IVQJu5c",
        "outputId": "197ca8cf-4769-49a5-a29c-f6eb21d07168"
      },
      "execution_count": 4,
      "outputs": [
        {
          "output_type": "execute_result",
          "data": {
            "text/plain": [
              "   sepal_l  sepal_w  petal_l  petal_w         type\n",
              "0      5.1      3.5      1.4      0.2  Iris-setosa\n",
              "1      4.9      3.0      1.4      0.2  Iris-setosa\n",
              "2      4.7      3.2      1.3      0.2  Iris-setosa\n",
              "3      4.6      3.1      1.5      0.2  Iris-setosa\n",
              "4      5.0      3.6      1.4      0.2  Iris-setosa"
            ],
            "text/html": [
              "\n",
              "  <div id=\"df-abafd938-71d9-48dd-b8d3-f44877380e3f\">\n",
              "    <div class=\"colab-df-container\">\n",
              "      <div>\n",
              "<style scoped>\n",
              "    .dataframe tbody tr th:only-of-type {\n",
              "        vertical-align: middle;\n",
              "    }\n",
              "\n",
              "    .dataframe tbody tr th {\n",
              "        vertical-align: top;\n",
              "    }\n",
              "\n",
              "    .dataframe thead th {\n",
              "        text-align: right;\n",
              "    }\n",
              "</style>\n",
              "<table border=\"1\" class=\"dataframe\">\n",
              "  <thead>\n",
              "    <tr style=\"text-align: right;\">\n",
              "      <th></th>\n",
              "      <th>sepal_l</th>\n",
              "      <th>sepal_w</th>\n",
              "      <th>petal_l</th>\n",
              "      <th>petal_w</th>\n",
              "      <th>type</th>\n",
              "    </tr>\n",
              "  </thead>\n",
              "  <tbody>\n",
              "    <tr>\n",
              "      <th>0</th>\n",
              "      <td>5.1</td>\n",
              "      <td>3.5</td>\n",
              "      <td>1.4</td>\n",
              "      <td>0.2</td>\n",
              "      <td>Iris-setosa</td>\n",
              "    </tr>\n",
              "    <tr>\n",
              "      <th>1</th>\n",
              "      <td>4.9</td>\n",
              "      <td>3.0</td>\n",
              "      <td>1.4</td>\n",
              "      <td>0.2</td>\n",
              "      <td>Iris-setosa</td>\n",
              "    </tr>\n",
              "    <tr>\n",
              "      <th>2</th>\n",
              "      <td>4.7</td>\n",
              "      <td>3.2</td>\n",
              "      <td>1.3</td>\n",
              "      <td>0.2</td>\n",
              "      <td>Iris-setosa</td>\n",
              "    </tr>\n",
              "    <tr>\n",
              "      <th>3</th>\n",
              "      <td>4.6</td>\n",
              "      <td>3.1</td>\n",
              "      <td>1.5</td>\n",
              "      <td>0.2</td>\n",
              "      <td>Iris-setosa</td>\n",
              "    </tr>\n",
              "    <tr>\n",
              "      <th>4</th>\n",
              "      <td>5.0</td>\n",
              "      <td>3.6</td>\n",
              "      <td>1.4</td>\n",
              "      <td>0.2</td>\n",
              "      <td>Iris-setosa</td>\n",
              "    </tr>\n",
              "  </tbody>\n",
              "</table>\n",
              "</div>\n",
              "      <button class=\"colab-df-convert\" onclick=\"convertToInteractive('df-abafd938-71d9-48dd-b8d3-f44877380e3f')\"\n",
              "              title=\"Convert this dataframe to an interactive table.\"\n",
              "              style=\"display:none;\">\n",
              "        \n",
              "  <svg xmlns=\"http://www.w3.org/2000/svg\" height=\"24px\"viewBox=\"0 0 24 24\"\n",
              "       width=\"24px\">\n",
              "    <path d=\"M0 0h24v24H0V0z\" fill=\"none\"/>\n",
              "    <path d=\"M18.56 5.44l.94 2.06.94-2.06 2.06-.94-2.06-.94-.94-2.06-.94 2.06-2.06.94zm-11 1L8.5 8.5l.94-2.06 2.06-.94-2.06-.94L8.5 2.5l-.94 2.06-2.06.94zm10 10l.94 2.06.94-2.06 2.06-.94-2.06-.94-.94-2.06-.94 2.06-2.06.94z\"/><path d=\"M17.41 7.96l-1.37-1.37c-.4-.4-.92-.59-1.43-.59-.52 0-1.04.2-1.43.59L10.3 9.45l-7.72 7.72c-.78.78-.78 2.05 0 2.83L4 21.41c.39.39.9.59 1.41.59.51 0 1.02-.2 1.41-.59l7.78-7.78 2.81-2.81c.8-.78.8-2.07 0-2.86zM5.41 20L4 18.59l7.72-7.72 1.47 1.35L5.41 20z\"/>\n",
              "  </svg>\n",
              "      </button>\n",
              "      \n",
              "  <style>\n",
              "    .colab-df-container {\n",
              "      display:flex;\n",
              "      flex-wrap:wrap;\n",
              "      gap: 12px;\n",
              "    }\n",
              "\n",
              "    .colab-df-convert {\n",
              "      background-color: #E8F0FE;\n",
              "      border: none;\n",
              "      border-radius: 50%;\n",
              "      cursor: pointer;\n",
              "      display: none;\n",
              "      fill: #1967D2;\n",
              "      height: 32px;\n",
              "      padding: 0 0 0 0;\n",
              "      width: 32px;\n",
              "    }\n",
              "\n",
              "    .colab-df-convert:hover {\n",
              "      background-color: #E2EBFA;\n",
              "      box-shadow: 0px 1px 2px rgba(60, 64, 67, 0.3), 0px 1px 3px 1px rgba(60, 64, 67, 0.15);\n",
              "      fill: #174EA6;\n",
              "    }\n",
              "\n",
              "    [theme=dark] .colab-df-convert {\n",
              "      background-color: #3B4455;\n",
              "      fill: #D2E3FC;\n",
              "    }\n",
              "\n",
              "    [theme=dark] .colab-df-convert:hover {\n",
              "      background-color: #434B5C;\n",
              "      box-shadow: 0px 1px 3px 1px rgba(0, 0, 0, 0.15);\n",
              "      filter: drop-shadow(0px 1px 2px rgba(0, 0, 0, 0.3));\n",
              "      fill: #FFFFFF;\n",
              "    }\n",
              "  </style>\n",
              "\n",
              "      <script>\n",
              "        const buttonEl =\n",
              "          document.querySelector('#df-abafd938-71d9-48dd-b8d3-f44877380e3f button.colab-df-convert');\n",
              "        buttonEl.style.display =\n",
              "          google.colab.kernel.accessAllowed ? 'block' : 'none';\n",
              "\n",
              "        async function convertToInteractive(key) {\n",
              "          const element = document.querySelector('#df-abafd938-71d9-48dd-b8d3-f44877380e3f');\n",
              "          const dataTable =\n",
              "            await google.colab.kernel.invokeFunction('convertToInteractive',\n",
              "                                                     [key], {});\n",
              "          if (!dataTable) return;\n",
              "\n",
              "          const docLinkHtml = 'Like what you see? Visit the ' +\n",
              "            '<a target=\"_blank\" href=https://colab.research.google.com/notebooks/data_table.ipynb>data table notebook</a>'\n",
              "            + ' to learn more about interactive tables.';\n",
              "          element.innerHTML = '';\n",
              "          dataTable['output_type'] = 'display_data';\n",
              "          await google.colab.output.renderOutput(dataTable, element);\n",
              "          const docLink = document.createElement('div');\n",
              "          docLink.innerHTML = docLinkHtml;\n",
              "          element.appendChild(docLink);\n",
              "        }\n",
              "      </script>\n",
              "    </div>\n",
              "  </div>\n",
              "  "
            ]
          },
          "metadata": {},
          "execution_count": 4
        }
      ]
    },
    {
      "cell_type": "code",
      "source": [
        "def chimerge(data, attr, label, max_intervals):\n",
        "    distinct_vals = sorted(set(data[attr])) # Sort the distinct values\n",
        "    labels = sorted(set(data[label])) # Get all possible labels\n",
        "    empty_count = {l: 0 for l in labels} # A helper function for padding the Counter()\n",
        "    intervals = [[distinct_vals[i], distinct_vals[i]] for i in range(len(distinct_vals))] # Initialize the intervals for each attribute\n",
        "    while len(intervals) > max_intervals: # While loop\n",
        "        chi = []\n",
        "        for i in range(len(intervals)-1):\n",
        "            # Calculate the Chi2 value\n",
        "            obs0 = data[data[attr].between(intervals[i][0], intervals[i][1])]\n",
        "            obs1 = data[data[attr].between(intervals[i+1][0], intervals[i+1][1])]\n",
        "            total = len(obs0) + len(obs1)\n",
        "            count_0 = np.array([v for i, v in {**empty_count, **Counter(obs0[label])}.items()])\n",
        "            count_1 = np.array([v for i, v in {**empty_count, **Counter(obs1[label])}.items()])\n",
        "            count_total = count_0 + count_1\n",
        "            expected_0 = count_total*sum(count_0)/total\n",
        "            expected_1 = count_total*sum(count_1)/total\n",
        "            chi_ = (count_0 - expected_0)**2/expected_0 + (count_1 - expected_1)**2/expected_1\n",
        "            chi_ = np.nan_to_num(chi_) # Deal with the zero counts\n",
        "            chi.append(sum(chi_)) # Finally do the summation for Chi2\n",
        "        min_chi = min(chi) # Find the minimal Chi2 for current iteration\n",
        "        for i, v in enumerate(chi):\n",
        "            if v == min_chi:\n",
        "                min_chi_index = i # Find the index of the interval to be merged\n",
        "                break\n",
        "        new_intervals = [] # Prepare for the merged new data array\n",
        "        skip = False\n",
        "        done = False\n",
        "        for i in range(len(intervals)):\n",
        "            if skip:\n",
        "                skip = False\n",
        "                continue\n",
        "            if i == min_chi_index and not done: # Merge the intervals\n",
        "                t = intervals[i] + intervals[i+1]\n",
        "                new_intervals.append([min(t), max(t)])\n",
        "                skip = True\n",
        "                done = True\n",
        "            else:\n",
        "                new_intervals.append(intervals[i])\n",
        "        intervals = new_intervals\n",
        "    for i in intervals:\n",
        "        print('[', i[0], ',', i[1], ']', sep='')"
      ],
      "metadata": {
        "id": "f_2p-k3wJxq1"
      },
      "execution_count": 5,
      "outputs": []
    },
    {
      "cell_type": "code",
      "source": [
        "for attr in ['sepal_l', 'sepal_w', 'petal_l', 'petal_w']:\n",
        "    print('Interval for', attr)\n",
        "    chimerge(data=iris, attr=attr, label='type', max_intervals=6)\n"
      ],
      "metadata": {
        "colab": {
          "base_uri": "https://localhost:8080/"
        },
        "id": "eSS4Mx3LJ0dt",
        "outputId": "31599053-52b8-4fde-c620-82e01a43a23e"
      },
      "execution_count": 6,
      "outputs": [
        {
          "output_type": "stream",
          "name": "stdout",
          "text": [
            "Interval for sepal_l\n"
          ]
        },
        {
          "output_type": "stream",
          "name": "stderr",
          "text": [
            "/usr/local/lib/python3.7/dist-packages/ipykernel_launcher.py:18: RuntimeWarning: invalid value encountered in true_divide\n"
          ]
        },
        {
          "output_type": "stream",
          "name": "stdout",
          "text": [
            "[4.3,4.8]\n",
            "[4.9,4.9]\n",
            "[5.0,5.4]\n",
            "[5.5,5.7]\n",
            "[5.8,7.0]\n",
            "[7.1,7.9]\n",
            "Interval for sepal_w\n",
            "[2.0,2.2]\n",
            "[2.3,2.4]\n",
            "[2.5,2.8]\n",
            "[2.9,2.9]\n",
            "[3.0,3.3]\n",
            "[3.4,4.4]\n",
            "Interval for petal_l\n",
            "[1.0,1.9]\n",
            "[3.0,4.4]\n",
            "[4.5,4.7]\n",
            "[4.8,4.9]\n",
            "[5.0,5.1]\n",
            "[5.2,6.9]\n",
            "Interval for petal_w\n",
            "[0.1,0.6]\n",
            "[1.0,1.3]\n",
            "[1.4,1.6]\n",
            "[1.7,1.7]\n",
            "[1.8,1.8]\n",
            "[1.9,2.5]\n"
          ]
        }
      ]
    }
  ]
}